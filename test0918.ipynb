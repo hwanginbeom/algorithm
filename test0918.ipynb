{
  "nbformat": 4,
  "nbformat_minor": 0,
  "metadata": {
    "colab": {
      "name": "test0918.ipynb",
      "provenance": [],
      "private_outputs": true,
      "authorship_tag": "ABX9TyNr+YuVyBTxrwaTTwgkccIf",
      "include_colab_link": true
    },
    "kernelspec": {
      "name": "python3",
      "display_name": "Python 3"
    }
  },
  "cells": [
    {
      "cell_type": "markdown",
      "metadata": {
        "id": "view-in-github",
        "colab_type": "text"
      },
      "source": [
        "<a href=\"https://colab.research.google.com/github/hwanginbeom/algorithm/blob/master/test0918.ipynb\" target=\"_parent\"><img src=\"https://colab.research.google.com/assets/colab-badge.svg\" alt=\"Open In Colab\"/></a>"
      ]
    },
    {
      "cell_type": "code",
      "metadata": {
        "id": "xeHHJBD3se5L",
        "colab_type": "code",
        "colab": {}
      },
      "source": [
        "key = [[0, 0, 0], [1, 0, 0], [0, 1, 1]]\t\n",
        "lock = [[1, 1, 1], [1, 1, 0], [1, 0, 1]]\t"
      ],
      "execution_count": null,
      "outputs": []
    },
    {
      "cell_type": "code",
      "metadata": {
        "id": "oIl731dQscfg",
        "colab_type": "code",
        "colab": {}
      },
      "source": [
        "def solution(key, lock):\n",
        "    answer = True\n",
        "    return answer"
      ],
      "execution_count": null,
      "outputs": []
    },
    {
      "cell_type": "code",
      "metadata": {
        "id": "HBbhcL0DslAj",
        "colab_type": "code",
        "colab": {}
      },
      "source": [
        "solution(key, lock)"
      ],
      "execution_count": null,
      "outputs": []
    },
    {
      "cell_type": "code",
      "metadata": {
        "id": "vlCaJW_jsmzB",
        "colab_type": "code",
        "colab": {}
      },
      "source": [
        "def rotation(key):\n",
        "    key_value = []\n",
        "    rotation_value = []\n",
        "    values =[]\n",
        "    for i in range(len(key)):\n",
        "        for j in range(len(key)):\n",
        "            key_value.append(key[i][j])\n",
        "    print(key_value)\n",
        "    print(key_value[0])\n",
        "    for i in range(len(key)):\n",
        "        for j in range(len(key)):\n",
        "            values.append( key_value[i+len(key)*j] )\n",
        "        else:\n",
        "            values.reverse()\n",
        "            rotation_value.append(values)\n",
        "            values = []\n",
        "    print(rotation_value)\n",
        "    return rotation_value\n",
        "            \n",
        "\n"
      ],
      "execution_count": null,
      "outputs": []
    },
    {
      "cell_type": "code",
      "metadata": {
        "id": "rpzyC9-PwWC8",
        "colab_type": "code",
        "colab": {}
      },
      "source": [
        "key = rotation(key)"
      ],
      "execution_count": null,
      "outputs": []
    },
    {
      "cell_type": "code",
      "metadata": {
        "id": "UnuGiOZQwaTV",
        "colab_type": "code",
        "colab": {}
      },
      "source": [
        "a = [1,2,3,4,5,6,]"
      ],
      "execution_count": null,
      "outputs": []
    },
    {
      "cell_type": "code",
      "metadata": {
        "id": "Ta32RY2A0VpI",
        "colab_type": "code",
        "colab": {}
      },
      "source": [
        "a[3]"
      ],
      "execution_count": null,
      "outputs": []
    },
    {
      "cell_type": "code",
      "metadata": {
        "id": "87FtiA270Z7i",
        "colab_type": "code",
        "colab": {}
      },
      "source": [
        "import numpy as np\n",
        "\n",
        "a=[[1,2],[2,1]]\n",
        "b=[[4,1],[2,2]]\n",
        "np.dot(a,b)"
      ],
      "execution_count": null,
      "outputs": []
    },
    {
      "cell_type": "code",
      "metadata": {
        "id": "mO1yH6PG1W4K",
        "colab_type": "code",
        "colab": {}
      },
      "source": [
        "def crash_course(dltr):\n",
        "    result =0\n",
        "    temp = 1\n",
        "\n",
        "    for i in range(1,dltr):\n",
        "        temp = temp *i\n",
        "        for k in range(i):\n",
        "            result += temp\n",
        "    return result"
      ],
      "execution_count": null,
      "outputs": []
    },
    {
      "cell_type": "code",
      "metadata": {
        "id": "8iQ8FlC-1jWd",
        "colab_type": "code",
        "colab": {}
      },
      "source": [
        "crash_course(4)1234234344"
      ],
      "execution_count": null,
      "outputs": []
    },
    {
      "cell_type": "code",
      "metadata": {
        "id": "JGBHfbqh1m08",
        "colab_type": "code",
        "colab": {}
      },
      "source": [
        "np.cross(a,b)"
      ],
      "execution_count": null,
      "outputs": []
    },
    {
      "cell_type": "code",
      "metadata": {
        "id": "E0Guj2Jy2Z9Z",
        "colab_type": "code",
        "colab": {}
      },
      "source": [
        "arr =[1.4,3.7,4.8,6.3,99.9]"
      ],
      "execution_count": null,
      "outputs": []
    },
    {
      "cell_type": "code",
      "metadata": {
        "id": "3ABrBqRY2eYf",
        "colab_type": "code",
        "colab": {}
      },
      "source": [
        "x= arr.pop(3)"
      ],
      "execution_count": null,
      "outputs": []
    },
    {
      "cell_type": "code",
      "metadata": {
        "id": "ARZZyOds2ltI",
        "colab_type": "code",
        "colab": {}
      },
      "source": [
        "x"
      ],
      "execution_count": null,
      "outputs": []
    },
    {
      "cell_type": "code",
      "metadata": {
        "id": "9HZWEBi32tev",
        "colab_type": "code",
        "colab": {}
      },
      "source": [
        "np"
      ],
      "execution_count": null,
      "outputs": []
    }
  ]
}